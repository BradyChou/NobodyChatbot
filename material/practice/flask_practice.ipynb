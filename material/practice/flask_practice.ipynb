{
 "cells": [
  {
   "cell_type": "code",
   "execution_count": 1,
   "metadata": {},
   "outputs": [],
   "source": [
    "#製作flask環境\n",
    "from flask import Flask"
   ]
  },
  {
   "cell_type": "code",
   "execution_count": 2,
   "metadata": {},
   "outputs": [],
   "source": [
    "#呼叫出Flask\n",
    "app = Flask(__name__)"
   ]
  },
  {
   "cell_type": "code",
   "execution_count": 3,
   "metadata": {},
   "outputs": [],
   "source": [
    "#製作一個接口，將server內部的程式做區隔，接口位置在“/hello”\n",
    "@app.route('/hello/<name>')\n",
    "#做一個函式是當接口被拜訪時會被啟動\n",
    "def Hello(name):\n",
    "    #做一個變數\n",
    "    text = \"Hello %s!!\"%(name)\n",
    "    #回傳函式的結果給使用者\n",
    "    return text"
   ]
  },
  {
   "cell_type": "code",
   "execution_count": 4,
   "metadata": {},
   "outputs": [],
   "source": [
    "@app.route('/square/<n>')\n",
    "def sqr(n):\n",
    "    return str(int(n)**2)"
   ]
  },
  {
   "cell_type": "code",
   "execution_count": 5,
   "metadata": {},
   "outputs": [],
   "source": [
    "@app.route('/foot/<animal>')\n",
    "def foot(animal):\n",
    "    result = 'I don\\'t know.'\n",
    "    if animal == 'pig':\n",
    "        foot = 4\n",
    "        result = '%s has %s foot.'%(animal, foot)\n",
    "    if animal == 'chicken':\n",
    "        foot = 2\n",
    "        result = '%s has %s foot.'%(animal, foot)    \n",
    "    return result"
   ]
  },
  {
   "cell_type": "code",
   "execution_count": 6,
   "metadata": {},
   "outputs": [],
   "source": [
    "@app.route('/food/<userID>')\n",
    "def transactionInfo(userID):\n",
    "    print('hello!')\n",
    "    return 'hello!'+userID"
   ]
  },
  {
   "cell_type": "code",
   "execution_count": 7,
   "metadata": {},
   "outputs": [
    {
     "name": "stderr",
     "output_type": "stream",
     "text": [
      " * Running on http://0.0.0.0:5000/ (Press CTRL+C to quit)\n",
      "223.138.79.61 - - [06/Feb/2019 06:59:32] \"GET /hello/uuu HTTP/1.1\" 200 -\n"
     ]
    }
   ],
   "source": [
    "#運行flask server，運行在0.0.0.0:5000\n",
    "#要特別注意假如運行在127.0.0.1的話，會變成只有本機連的到，外網無法\n",
    "if __name__ == '__main__':\n",
    "    app.run(host='0.0.0.0',port=5000)"
   ]
  },
  {
   "cell_type": "code",
   "execution_count": null,
   "metadata": {},
   "outputs": [],
   "source": []
  },
  {
   "cell_type": "code",
   "execution_count": null,
   "metadata": {},
   "outputs": [],
   "source": []
  }
 ],
 "metadata": {
  "kernelspec": {
   "display_name": "Python 3",
   "language": "python",
   "name": "python3"
  },
  "language_info": {
   "codemirror_mode": {
    "name": "ipython",
    "version": 3
   },
   "file_extension": ".py",
   "mimetype": "text/x-python",
   "name": "python",
   "nbconvert_exporter": "python",
   "pygments_lexer": "ipython3",
   "version": "3.7.1"
  }
 },
 "nbformat": 4,
 "nbformat_minor": 2
}
