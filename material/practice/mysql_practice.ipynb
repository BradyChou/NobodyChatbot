{
 "cells": [
  {
   "cell_type": "code",
   "execution_count": null,
   "metadata": {},
   "outputs": [],
   "source": [
    "#!pip install PyMySQL[rsa]"
   ]
  },
  {
   "cell_type": "code",
   "execution_count": 1,
   "metadata": {},
   "outputs": [],
   "source": [
    "import pymysql"
   ]
  },
  {
   "cell_type": "code",
   "execution_count": 2,
   "metadata": {},
   "outputs": [
    {
     "name": "stdout",
     "output_type": "stream",
     "text": [
      "Connected successfully!\n"
     ]
    }
   ],
   "source": [
    "# open connection(host, user, password, database)\n",
    "conn = pymysql.connect(\n",
    "    host = \"uuboyscymysql.clrhltpp3icl.ap-northeast-1.rds.amazonaws.com\",\n",
    "    port = int(3306),\n",
    "    user = \"food\",\n",
    "    password = \"food\",\n",
    "    db = \"food\",\n",
    "    charset='utf8',    \n",
    "    cursorclass=pymysql.cursors.DictCursor )\n",
    "\n",
    "print('Connected successfully!')"
   ]
  },
  {
   "cell_type": "code",
   "execution_count": 3,
   "metadata": {},
   "outputs": [
    {
     "name": "stdout",
     "output_type": "stream",
     "text": [
      "Database version : {'VERSION()': '5.6.40-log'} \n"
     ]
    }
   ],
   "source": [
    "# create a cursor by cursor()\n",
    "cursor = conn.cursor()\n",
    " \n",
    "# execute SQL query \n",
    "cursor.execute(\"SELECT VERSION()\")\n",
    " \n",
    "# use fetchone() to get one single data\n",
    "data = cursor.fetchone()\n",
    " \n",
    "print (\"Database version : %s \" % data)"
   ]
  },
  {
   "cell_type": "code",
   "execution_count": null,
   "metadata": {},
   "outputs": [],
   "source": [
    "# show tables\n",
    "cursor.execute(\"SHOW TABLES FROM food.memberInfo;\")\n",
    "cursor.fetchall()"
   ]
  },
  {
   "cell_type": "code",
   "execution_count": 5,
   "metadata": {},
   "outputs": [
    {
     "data": {
      "text/plain": [
       "[{'name': '??'},\n",
       " {'name': 'Gregory'},\n",
       " {'name': '???'},\n",
       " {'name': 'UUBOY'},\n",
       " {'name': '???'},\n",
       " {'name': 'Yiying'},\n",
       " {'name': '???'},\n",
       " {'name': 'Even(Yves)'},\n",
       " {'name': 'Leroy'},\n",
       " {'name': '??????'},\n",
       " {'name': '??'}]"
      ]
     },
     "execution_count": 5,
     "metadata": {},
     "output_type": "execute_result"
    }
   ],
   "source": [
    "cursor.execute(\"SELECT name FROM membersInfo\")\n",
    "cursor.fetchall()"
   ]
  },
  {
   "cell_type": "code",
   "execution_count": 11,
   "metadata": {},
   "outputs": [
    {
     "data": {
      "text/plain": [
       "()"
      ]
     },
     "execution_count": 11,
     "metadata": {},
     "output_type": "execute_result"
    }
   ],
   "source": [
    "cursor.execute(\"SELECT * FROM membersInfo\")\n",
    "\n",
    "# use fetchall() to get all data\n",
    "data2 = cursor.fetchall()\n",
    "data2"
   ]
  },
  {
   "cell_type": "code",
   "execution_count": null,
   "metadata": {},
   "outputs": [],
   "source": [
    "# delete data\n",
    "cursor.execute(\"DELETE FROM membersInfo;\")\n",
    "conn.commit()"
   ]
  },
  {
   "cell_type": "code",
   "execution_count": null,
   "metadata": {},
   "outputs": [],
   "source": [
    "#import base64\n",
    "\n",
    "f = open('./res/me.jpg', 'rb')\n",
    "img = f.read()\n",
    "#print(img)\n",
    "f.close()\n",
    "#encodestr = base64.b64encode(img)\n",
    "#sql = \"INSERT INTO membersInfo (userid, name, tel, email, photo) VALUES ( '%s', '%s', %s, %s, %s )\"\n",
    "\n",
    "cursor.execute(\"INSERT INTO membersInfo SET userid=%s, name=%s, tel=%s, email=%s, photo=%s\", ('NEW333332Uhjvhjcxkhjbvbbklvxlkhjkhvxzh97f8d9s', 'LiLiang-Gan', '08570857', 'shit@fuck.you', img))\n",
    "\n",
    "conn.commit()\n",
    "\n",
    "print('Uploaded!')"
   ]
  },
  {
   "cell_type": "code",
   "execution_count": null,
   "metadata": {},
   "outputs": [],
   "source": [
    "# close connection\n",
    "conn.close()"
   ]
  },
  {
   "cell_type": "code",
   "execution_count": null,
   "metadata": {},
   "outputs": [],
   "source": []
  }
 ],
 "metadata": {
  "kernelspec": {
   "display_name": "Python 3",
   "language": "python",
   "name": "python3"
  },
  "language_info": {
   "codemirror_mode": {
    "name": "ipython",
    "version": 3
   },
   "file_extension": ".py",
   "mimetype": "text/x-python",
   "name": "python",
   "nbconvert_exporter": "python",
   "pygments_lexer": "ipython3",
   "version": "3.7.1"
  }
 },
 "nbformat": 4,
 "nbformat_minor": 2
}
