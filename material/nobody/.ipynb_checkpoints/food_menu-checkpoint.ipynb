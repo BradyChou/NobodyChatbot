{
 "cells": [
  {
   "cell_type": "code",
   "execution_count": 1,
   "metadata": {},
   "outputs": [
    {
     "data": {
      "text/plain": [
       "'\\n\\n用戶菜單功能介紹\\n\\n    用戶能透過點擊菜單，進行我方希冀之業務功能。\\n    \\n流程\\n    準備菜單的圖面設定檔\\n    讀取安全設定檔上的參數\\n    將菜單設定檔傳給Line\\n    對Line上傳菜單照片\\n    檢視現有的菜單\\n    將菜單與用戶做綁定\\n    將菜單與用戶解除綁定\\n    刪除菜單\\n\\n'"
      ]
     },
     "execution_count": 1,
     "metadata": {},
     "output_type": "execute_result"
    }
   ],
   "source": [
    "'''\n",
    "\n",
    "用戶菜單功能介紹\n",
    "\n",
    "    用戶能透過點擊菜單，進行我方希冀之業務功能。\n",
    "    \n",
    "流程\n",
    "    準備菜單的圖面設定檔\n",
    "    讀取安全設定檔上的參數\n",
    "    將菜單設定檔傳給Line\n",
    "    對Line上傳菜單照片\n",
    "    檢視現有的菜單\n",
    "    將菜單與用戶做綁定\n",
    "    將菜單與用戶解除綁定\n",
    "    刪除菜單\n",
    "\n",
    "'''"
   ]
  },
  {
   "cell_type": "code",
   "execution_count": 7,
   "metadata": {},
   "outputs": [],
   "source": [
    "'''\n",
    "菜單設定檔\n",
    "\n",
    "    設定圖面大小、按鍵名與功能\n",
    "    \n",
    "'''\n",
    "\n",
    "menuRawData=\"\"\"\n",
    "{\n",
    "  \"size\": {\n",
    "    \"width\": 2500,\n",
    "    \"height\": 1686\n",
    "  },\n",
    "  \"selected\": true,\n",
    "  \"name\": \"foodMenu\",\n",
    "  \"chatBarText\": \"查看更多資訊\",\n",
    "  \"areas\": [\n",
    "    {\n",
    "      \"bounds\": {\n",
    "        \"x\": 7,\n",
    "        \"y\": 9,\n",
    "        \"width\": 864,\n",
    "        \"height\": 820\n",
    "      },\n",
    "      \"action\": {\n",
    "        \"type\": \"message\",\n",
    "        \"text\": \"[::text:]本次交易\"\n",
    "      }\n",
    "    },\n",
    "    {\n",
    "      \"bounds\": {\n",
    "        \"x\": 876,\n",
    "        \"y\": 0,\n",
    "        \"width\": 786,\n",
    "        \"height\": 830\n",
    "      },\n",
    "      \"action\": {\n",
    "        \"type\": \"message\",\n",
    "        \"text\": \"[::flex:]促銷食材\"\n",
    "      }\n",
    "    },\n",
    "    {\n",
    "      \"bounds\": {\n",
    "        \"x\": 0,\n",
    "        \"y\": 833,\n",
    "        \"width\": 879,\n",
    "        \"height\": 800\n",
    "      },\n",
    "      \"action\": {\n",
    "        \"type\": \"message\",\n",
    "        \"text\": \"[::text:]歷史交易\"\n",
    "      }\n",
    "    },\n",
    "    {\n",
    "      \"bounds\": {\n",
    "        \"x\": 883,\n",
    "        \"y\": 833,\n",
    "        \"width\": 778,\n",
    "        \"height\": 802\n",
    "      },\n",
    "      \"action\": {\n",
    "        \"type\": \"uri\",\n",
    "        \"uri\": \"https://image.slidesharecdn.com/chinesehistory-cv-caocao-140730210730-phpapp01/95/-1-638.jpg?cb=1458796316\"\n",
    "      }\n",
    "    },\n",
    "    {\n",
    "      \"bounds\": {\n",
    "        \"x\": 1669,\n",
    "        \"y\": 4,\n",
    "        \"width\": 827,\n",
    "        \"height\": 822\n",
    "      },\n",
    "      \"action\": {\n",
    "        \"type\": \"message\",\n",
    "        \"text\": \"[::text:]會員中心\"\n",
    "      }\n",
    "    },\n",
    "    {\n",
    "      \"bounds\": {\n",
    "        \"x\": 1666,\n",
    "        \"y\": 831,\n",
    "        \"width\": 834,\n",
    "        \"height\": 805\n",
    "      },\n",
    "      \"action\": {\n",
    "        \"type\": \"uri\",\n",
    "        \"uri\": \"tel://0857987987\"\n",
    "      }\n",
    "    }\n",
    "  ]\n",
    "}\n",
    "\"\"\""
   ]
  },
  {
   "cell_type": "code",
   "execution_count": 2,
   "metadata": {},
   "outputs": [
    {
     "name": "stdout",
     "output_type": "stream",
     "text": [
      "YGQ8o7Y8naocftGCq0M4XKSzF7XoSl4EyrsjUOqmxcYoGXndEELUdC5Q5RlJXyIoL8IRtN/3YaxjcXkZJMBSbqt82yGSJjD885hForRc7zBFpn6RE3EmPw2TNd7KRKrg+l0T9ZzHNGoxWuD1jh4BKwdB04t89/1O/w1cDnyilFU=\n",
      "14a421ac4f5f95b80cad28e229aad14b\n",
      "U7173dc299af6ac3fe7697a75c2a280ad\n"
     ]
    }
   ],
   "source": [
    "'''\n",
    "\n",
    "讀取安全檔案內的字串，以供後續程式碼調用\n",
    "\n",
    "'''\n",
    "import json\n",
    "secretFileContentJson=json.load(open(\"../line_secret_key\",'r'))\n",
    "\n",
    "print(secretFileContentJson.get(\"channel_access_token\"))\n",
    "print(secretFileContentJson.get(\"secret_key\"))\n",
    "print(secretFileContentJson.get(\"self_user_id\"))\n"
   ]
  },
  {
   "cell_type": "code",
   "execution_count": 3,
   "metadata": {},
   "outputs": [
    {
     "name": "stdout",
     "output_type": "stream",
     "text": [
      "<Response [200]>\n",
      "{\"richMenuId\":\"richmenu-35091513445dcbb6043cb1882d5ec38e\"}\n"
     ]
    }
   ],
   "source": [
    "'''\n",
    "\n",
    "將先前準備的菜單設定檔，以Post消息寄發給Line\n",
    "\n",
    "    設定Line的遠端位置\n",
    "    設定消息的基本安全憑證\n",
    "    寄發消息，並取得回應之Id\n",
    "    \n",
    "\n",
    "'''\n",
    "\n",
    "import requests\n",
    "\n",
    "# 載入設定檔\n",
    "menuJson=json.loads(menuRawData)\n",
    "\n",
    "# 上傳到 Line\n",
    "createMenuEndpoint = 'https://api.line.me/v2/bot/richmenu'\n",
    "\n",
    "# 將認證碼 channel_access_token 放到封包的表頭上\n",
    "createMenuRequestHeader={'Content-Type':'application/json','Authorization':'Bearer %s' % secretFileContentJson[\"channel_access_token\"]}\n",
    "\n",
    "#print(createMenuRequestHeader)\n",
    "\n",
    "# 傳給 Line\n",
    "lineCreateMenuResponse = requests.post(createMenuEndpoint,headers=createMenuRequestHeader,data=json.dumps(menuJson))\n",
    "\n",
    "# 印出結果\n",
    "print(lineCreateMenuResponse)\n",
    "print(lineCreateMenuResponse.text)\n"
   ]
  },
  {
   "cell_type": "code",
   "execution_count": 4,
   "metadata": {},
   "outputs": [
    {
     "name": "stdout",
     "output_type": "stream",
     "text": [
      "richmenu-35091513445dcbb6043cb1882d5ec38e\n",
      "https://api.line.me/v2/bot/richmenu/richmenu-35091513445dcbb6043cb1882d5ec38e/content\n",
      "<Response [200]>\n",
      "{}\n"
     ]
    }
   ],
   "source": [
    "'''\n",
    "\n",
    "將先前準備的菜單照片，以Post消息寄發給Line\n",
    "    取得上面設定檔的Id\n",
    "    設定Line的遠端位置\n",
    "    設定消息的基本安全憑證\n",
    "    上傳照片，並取得回傳成果\n",
    "\n",
    "'''\n",
    "\n",
    "# 取得功能選單的 id\n",
    "uploadRichMenuId=json.loads(lineCreateMenuResponse.text).get(\"richMenuId\")\n",
    "print(uploadRichMenuId)\n",
    "#'https://api.line.me/v2/bot/richmenu/{richMenuId}/content'\n",
    "\n",
    "# 設定上傳位置\n",
    "uploadMenuEndpoint='https://api.line.me/v2/bot/richmenu/%s/content' % uploadRichMenuId\n",
    "print(uploadMenuEndpoint)\n",
    "\n",
    "# 為封包設定認證的公司章 (channel_access_token)\n",
    "uploadMenuRequestHeader={'Content-Type':'image/jpeg','Authorization':'Bearer %s' % secretFileContentJson[\"channel_access_token\"]}\n",
    "\n",
    "# 讀取圖片\n",
    "uploadImageFile=open(\"../food/menu3.png\",'rb')\n",
    "\n",
    "# 上傳圖片\n",
    "lineUploadMenuResponse=requests.post(uploadMenuEndpoint,headers=uploadMenuRequestHeader,data=uploadImageFile)\n",
    "\n",
    "# 觀看結果\n",
    "print(lineUploadMenuResponse)\n",
    "print(lineUploadMenuResponse.text)"
   ]
  },
  {
   "cell_type": "code",
   "execution_count": 5,
   "metadata": {},
   "outputs": [
    {
     "name": "stdout",
     "output_type": "stream",
     "text": [
      "https://api.line.me/v2/bot/user/U7173dc299af6ac3fe7697a75c2a280ad/richmenu/richmenu-35091513445dcbb6043cb1882d5ec38e\n",
      "<Response [200]>\n",
      "{}\n"
     ]
    }
   ],
   "source": [
    "'''\n",
    "\n",
    "將選單綁定到特定用戶身上\n",
    "    取出上面得到的菜單Id及用戶id\n",
    "    設定Line的遠端位置\n",
    "    設定消息的基本安全憑證\n",
    "    發送消息告知\n",
    "\n",
    "'''\n",
    "\n",
    "# https://api.line.me/v2/bot/user/{userId}/richmenu/{richMenuId}\n",
    "\n",
    "# 取得菜單的 id\n",
    "linkRichMenuId=json.loads(lineCreateMenuResponse.text).get(\"richMenuId\")\n",
    "\n",
    "#將 user_id 和 richmenu_id 組合成一個網址\n",
    "linkMenuEndpoint='https://api.line.me/v2/bot/user/%s/richmenu/%s' % (secretFileContentJson[\"self_user_id\"], linkRichMenuId)\n",
    "print(linkMenuEndpoint)\n",
    "\n",
    "# 為封包設定安全標籤(蓋公司章)\n",
    "linkMenuRequestHeader={'Content-Type':'image/jpeg','Authorization':'Bearer %s' % secretFileContentJson[\"channel_access_token\"]}\n",
    "\n",
    "# 將需求傳給 Line\n",
    "lineLinkMenuResponse=requests.post(linkMenuEndpoint,headers=linkMenuRequestHeader)\n",
    "print(lineLinkMenuResponse)\n",
    "print(lineLinkMenuResponse.text)"
   ]
  },
  {
   "cell_type": "code",
   "execution_count": 6,
   "metadata": {},
   "outputs": [
    {
     "name": "stdout",
     "output_type": "stream",
     "text": [
      "https://api.line.me/v2/bot/user/U7173dc299af6ac3fe7697a75c2a280ad/richmenu\n",
      "<Response [200]>\n",
      "{\"richMenuId\":\"richmenu-35091513445dcbb6043cb1882d5ec38e\"}\n"
     ]
    }
   ],
   "source": [
    "'''\n",
    "\n",
    "檢視用戶目前所綁定的菜單\n",
    "    取出用戶id\n",
    "    設定Line的遠端位置\n",
    "    設定消息的基本安全憑證\n",
    "    發送消息告知\n",
    "\n",
    "'''\n",
    "\n",
    "#  https://api.line.me/v2/bot/user/{userId}/richmenu\n",
    "\n",
    "# 取出用戶id，設定Line的遠端位置\n",
    "userMenuEndpoint='https://api.line.me/v2/bot/user/%s/richmenu' % (secretFileContentJson[\"self_user_id\"])\n",
    "print(userMenuEndpoint)\n",
    "\n",
    "# 設定消息的基本安全憑證\n",
    "userMenuRequestHeader={'Authorization':'Bearer %s' % secretFileContentJson[\"channel_access_token\"]}\n",
    "\n",
    "# 發送消息告知\n",
    "lineUserMenuResponse=requests.get(userMenuEndpoint,headers=userMenuRequestHeader)\n",
    "print(lineUserMenuResponse)\n",
    "print(lineUserMenuResponse.text)\n"
   ]
  },
  {
   "cell_type": "code",
   "execution_count": 14,
   "metadata": {},
   "outputs": [
    {
     "name": "stdout",
     "output_type": "stream",
     "text": [
      "https://api.line.me/v2/bot/user/U7173dc299af6ac3fe7697a75c2a280ad/richmenu\n",
      "<Response [200]>\n",
      "{}\n"
     ]
    }
   ],
   "source": [
    "'''\n",
    "\n",
    "解除選單與特定用戶的綁定\n",
    "    取出用戶id\n",
    "    設定Line的遠端位置\n",
    "    設定消息的基本安全憑證\n",
    "    發送消息告知\n",
    "\n",
    "'''\n",
    "\n",
    "# 取出用戶id，設定Line的遠端位置\n",
    "userMenuEndpoint='https://api.line.me/v2/bot/user/%s/richmenu' % (secretFileContentJson[\"self_user_id\"])\n",
    "print(userMenuEndpoint)\n",
    "\n",
    "# 設定消息的基本安全憑證\n",
    "userMenuRequestHeader={'Authorization':'Bearer %s' % secretFileContentJson[\"channel_access_token\"]}\n",
    "\n",
    "# 發送消息告知\n",
    "lineUnregisterUserMenuResponse=requests.delete(userMenuEndpoint,headers=userMenuRequestHeader)\n",
    "print(lineUnregisterUserMenuResponse)\n",
    "print(lineUnregisterUserMenuResponse.text)"
   ]
  },
  {
   "cell_type": "code",
   "execution_count": 7,
   "metadata": {},
   "outputs": [
    {
     "name": "stdout",
     "output_type": "stream",
     "text": [
      "{\"richmenus\":[{\"richMenuId\":\"richmenu-8c9ba58afc63eb9128fa39f538204d5e\",\"name\":\"foodMenu\",\"size\":{\"width\":2500,\"height\":1686},\"chatBarText\":\"查看更多資訊\",\"selected\":true,\"areas\":[{\"bounds\":{\"x\":32,\"y\":369,\"width\":1198,\"height\":461},\"action\":{\"type\":\"message\",\"text\":\"[::text:]本次交易\"}},{\"bounds\":{\"x\":1248,\"y\":369,\"width\":1167,\"height\":449},\"action\":{\"type\":\"message\",\"text\":\"[::text:]歷史交易\"}},{\"bounds\":{\"x\":49,\"y\":866,\"width\":1192,\"height\":462},\"action\":{\"type\":\"message\",\"text\":\"[::flex:]促銷食材\"}},{\"bounds\":{\"x\":1247,\"y\":866,\"width\":1185,\"height\":456},\"action\":{\"type\":\"uri\",\"uri\":\"https://image.slidesharecdn.com/chinesehistory-cv-caocao-140730210730-phpapp01/95/-1-638.jpg?cb=1458796316\"}}]},{\"richMenuId\":\"richmenu-b8fe962e73d5a9e4a08edcc03c5b2635\",\"name\":\"foodMenu\",\"size\":{\"width\":2500,\"height\":1686},\"chatBarText\":\"查看更多資訊\",\"selected\":true,\"areas\":[{\"bounds\":{\"x\":32,\"y\":369,\"width\":1198,\"height\":461},\"action\":{\"type\":\"message\",\"text\":\"[::text:]本次交易\"}},{\"bounds\":{\"x\":1248,\"y\":369,\"width\":1167,\"height\":449},\"action\":{\"type\":\"message\",\"text\":\"[::text:]歷史交易\"}},{\"bounds\":{\"x\":49,\"y\":866,\"width\":1192,\"height\":462},\"action\":{\"type\":\"message\",\"text\":\"[::flex:]促銷食材\"}},{\"bounds\":{\"x\":1247,\"y\":866,\"width\":1185,\"height\":456},\"action\":{\"type\":\"uri\",\"uri\":\"https://image.slidesharecdn.com/chinesehistory-cv-caocao-140730210730-phpapp01/95/-1-638.jpg?cb=1458796316\"}}]},{\"richMenuId\":\"richmenu-4e6a0410ec47f5933bfdf78ca480fd8e\",\"name\":\"區塊鏈自定義菜單\",\"size\":{\"width\":2500,\"height\":1686},\"chatBarText\":\"查看更多資訊\",\"selected\":true,\"areas\":[{\"bounds\":{\"x\":5,\"y\":0,\"width\":824,\"height\":850},\"action\":{\"type\":\"message\",\"text\":\"[::text:]傳統交易\"}},{\"bounds\":{\"x\":0,\"y\":850,\"width\":825,\"height\":818},\"action\":{\"type\":\"message\",\"text\":\"[::text:]第三方公證人\"}},{\"bounds\":{\"x\":829,\"y\":5,\"width\":871,\"height\":849},\"action\":{\"type\":\"message\",\"text\":\"[::text:]多位公證人\"}},{\"bounds\":{\"x\":825,\"y\":854,\"width\":875,\"height\":814},\"action\":{\"type\":\"message\",\"text\":\"[::text:]多組織多位公證人\"}},{\"bounds\":{\"x\":1700,\"y\":0,\"width\":800,\"height\":858},\"action\":{\"type\":\"message\",\"text\":\"[::text:]教學訊息\"}},{\"bounds\":{\"x\":1700,\"y\":858,\"width\":800,\"height\":810},\"action\":{\"type\":\"message\",\"text\":\"[::text:]more\"}}]},{\"richMenuId\":\"richmenu-0f8ed1008daff279abccec1ebf32681e\",\"name\":\"foodMenu\",\"size\":{\"width\":2500,\"height\":1686},\"chatBarText\":\"查看更多資訊\",\"selected\":true,\"areas\":[{\"bounds\":{\"x\":32,\"y\":369,\"width\":1198,\"height\":461},\"action\":{\"type\":\"message\",\"text\":\"[::text:]本次交易\"}},{\"bounds\":{\"x\":1248,\"y\":369,\"width\":1167,\"height\":449},\"action\":{\"type\":\"message\",\"text\":\"[::text:]歷史交易\"}},{\"bounds\":{\"x\":49,\"y\":866,\"width\":1192,\"height\":462},\"action\":{\"type\":\"message\",\"text\":\"[::flex:]促銷食材\"}},{\"bounds\":{\"x\":1247,\"y\":866,\"width\":1185,\"height\":456},\"action\":{\"type\":\"uri\",\"uri\":\"https://image.slidesharecdn.com/chinesehistory-cv-caocao-140730210730-phpapp01/95/-1-638.jpg?cb=1458796316\"}}]},{\"richMenuId\":\"richmenu-61b4d43cd84d82e150e1d2277d96253e\",\"name\":\"foodMenu\",\"size\":{\"width\":2500,\"height\":1686},\"chatBarText\":\"查看更多資訊\",\"selected\":true,\"areas\":[{\"bounds\":{\"x\":32,\"y\":369,\"width\":1198,\"height\":461},\"action\":{\"type\":\"message\",\"text\":\"[::text:]本次交易\"}},{\"bounds\":{\"x\":1248,\"y\":369,\"width\":1167,\"height\":449},\"action\":{\"type\":\"message\",\"text\":\"[::text:]歷史交易\"}},{\"bounds\":{\"x\":49,\"y\":866,\"width\":1192,\"height\":462},\"action\":{\"type\":\"message\",\"text\":\"[::flex:]促銷食材\"}},{\"bounds\":{\"x\":1247,\"y\":866,\"width\":1185,\"height\":456},\"action\":{\"type\":\"uri\",\"uri\":\"https://image.slidesharecdn.com/chinesehistory-cv-caocao-140730210730-phpapp01/95/-1-638.jpg?cb=1458796316\"}}]},{\"richMenuId\":\"richmenu-f77b5e5b68f0c4ace0975671ef028f7d\",\"name\":\"foodMenu\",\"size\":{\"width\":2500,\"height\":1686},\"chatBarText\":\"查看更多資訊\",\"selected\":true,\"areas\":[{\"bounds\":{\"x\":32,\"y\":369,\"width\":1198,\"height\":461},\"action\":{\"type\":\"message\",\"text\":\"[::text:]本次交易\"}},{\"bounds\":{\"x\":1248,\"y\":369,\"width\":1167,\"height\":449},\"action\":{\"type\":\"message\",\"text\":\"[::text:]歷史交易\"}},{\"bounds\":{\"x\":49,\"y\":866,\"width\":1192,\"height\":462},\"action\":{\"type\":\"message\",\"text\":\"[::flex:]促銷食材\"}},{\"bounds\":{\"x\":1247,\"y\":866,\"width\":1185,\"height\":456},\"action\":{\"type\":\"uri\",\"uri\":\"https://image.slidesharecdn.com/chinesehistory-cv-caocao-140730210730-phpapp01/95/-1-638.jpg?cb=1458796316\"}}]},{\"richMenuId\":\"richmenu-b69211ee096917dbc2d34ad4f1d4494c\",\"name\":\"foodMenu\",\"size\":{\"width\":2500,\"height\":1686},\"chatBarText\":\"查看更多資訊\",\"selected\":true,\"areas\":[{\"bounds\":{\"x\":43,\"y\":49,\"width\":1198,\"height\":381},\"action\":{\"type\":\"message\",\"text\":\"[::text:]本次交易\"}},{\"bounds\":{\"x\":1247,\"y\":31,\"width\":1167,\"height\":393},\"action\":{\"type\":\"message\",\"text\":\"[::text:]歷史交易\"}},{\"bounds\":{\"x\":49,\"y\":467,\"width\":1192,\"height\":376},\"action\":{\"type\":\"message\",\"text\":\"[::text:]促銷商品\"}},{\"bounds\":{\"x\":1247,\"y\":467,\"width\":1185,\"height\":376},\"action\":{\"type\":\"uri\",\"uri\":\"https://image.slidesharecdn.com/chinesehistory-cv-caocao-140730210730-phpapp01/95/-1-638.jpg?cb=1458796316\"}}]},{\"richMenuId\":\"richmenu-17e888999bc4e5950254b5a22c2a07a3\",\"name\":\"foodMenu\",\"size\":{\"width\":2500,\"height\":1686},\"chatBarText\":\"查看更多資訊\",\"selected\":true,\"areas\":[{\"bounds\":{\"x\":32,\"y\":369,\"width\":1198,\"height\":461},\"action\":{\"type\":\"message\",\"text\":\"動作 1\"}},{\"bounds\":{\"x\":1248,\"y\":369,\"width\":1167,\"height\":449},\"action\":{\"type\":\"message\",\"text\":\"動作 2\"}},{\"bounds\":{\"x\":49,\"y\":866,\"width\":1192,\"height\":462},\"action\":{\"type\":\"message\",\"text\":\"動作 3\"}},{\"bounds\":{\"x\":1247,\"y\":866,\"width\":1185,\"height\":456},\"action\":{\"type\":\"uri\",\"uri\":\"https://image.slidesharecdn.com/chinesehistory-cv-caocao-140730210730-phpapp01/95/-1-638.jpg?cb=1458796316\"}}]},{\"richMenuId\":\"richmenu-08c305d6ab859759afa4a7f54b2f35a2\",\"name\":\"foodMenu\",\"size\":{\"width\":2500,\"height\":1686},\"chatBarText\":\"查看更多資訊\",\"selected\":true,\"areas\":[{\"bounds\":{\"x\":25,\"y\":492,\"width\":1198,\"height\":381},\"action\":{\"type\":\"message\",\"text\":\"動作 1\"}},{\"bounds\":{\"x\":1242,\"y\":492,\"width\":1167,\"height\":393},\"action\":{\"type\":\"message\",\"text\":\"動作 2\"}},{\"bounds\":{\"x\":42,\"y\":928,\"width\":1192,\"height\":376},\"action\":{\"type\":\"message\",\"text\":\"動作 3\"}},{\"bounds\":{\"x\":1247,\"y\":921,\"width\":1185,\"height\":376},\"action\":{\"type\":\"uri\",\"uri\":\"https://image.slidesharecdn.com/chinesehistory-cv-caocao-140730210730-phpapp01/95/-1-638.jpg?cb=1458796316\"}}]},{\"richMenuId\":\"richmenu-64ae4545016a3b2014a15f0c6fbc62f5\",\"name\":\"foodMenu\",\"size\":{\"width\":2500,\"height\":1686},\"chatBarText\":\"查看更多資訊\",\"selected\":true,\"areas\":[{\"bounds\":{\"x\":32,\"y\":369,\"width\":1198,\"height\":461},\"action\":{\"type\":\"message\",\"text\":\"[::text:]本次交易\"}},{\"bounds\":{\"x\":1248,\"y\":369,\"width\":1167,\"height\":449},\"action\":{\"type\":\"message\",\"text\":\"[::text:]歷史交易\"}},{\"bounds\":{\"x\":49,\"y\":866,\"width\":1192,\"height\":462},\"action\":{\"type\":\"message\",\"text\":\"[::flex:]促銷食材\"}},{\"bounds\":{\"x\":1247,\"y\":866,\"width\":1185,\"height\":456},\"action\":{\"type\":\"uri\",\"uri\":\"https://image.slidesharecdn.com/chinesehistory-cv-caocao-140730210730-phpapp01/95/-1-638.jpg?cb=1458796316\"}}]},{\"richMenuId\":\"richmenu-f17f6a32b550a8eccd96299ba60fa91c\",\"name\":\"foodMenu\",\"size\":{\"width\":2500,\"height\":1686},\"chatBarText\":\"查看更多資訊\",\"selected\":true,\"areas\":[{\"bounds\":{\"x\":32,\"y\":369,\"width\":1198,\"height\":461},\"action\":{\"type\":\"message\",\"text\":\"[::text:]本次交易\"}},{\"bounds\":{\"x\":1248,\"y\":369,\"width\":1167,\"height\":449},\"action\":{\"type\":\"message\",\"text\":\"[::text:]歷史交易\"}},{\"bounds\":{\"x\":49,\"y\":866,\"width\":1192,\"height\":462},\"action\":{\"type\":\"message\",\"text\":\"[::flex:]促銷食材\"}},{\"bounds\":{\"x\":1247,\"y\":866,\"width\":1185,\"height\":456},\"action\":{\"type\":\"uri\",\"uri\":\"https://image.slidesharecdn.com/chinesehistory-cv-caocao-140730210730-phpapp01/95/-1-638.jpg?cb=1458796316\"}}]},{\"richMenuId\":\"richmenu-b20b060f27ed24cb5f63f1b5575c3775\",\"name\":\"foodMenu\",\"size\":{\"width\":2500,\"height\":1686},\"chatBarText\":\"查看更多資訊\",\"selected\":true,\"areas\":[{\"bounds\":{\"x\":32,\"y\":369,\"width\":1198,\"height\":461},\"action\":{\"type\":\"message\",\"text\":\"[::text:]本次交易\"}},{\"bounds\":{\"x\":1248,\"y\":369,\"width\":1167,\"height\":449},\"action\":{\"type\":\"message\",\"text\":\"[::text:]歷史交易\"}},{\"bounds\":{\"x\":49,\"y\":866,\"width\":1192,\"height\":462},\"action\":{\"type\":\"message\",\"text\":\"[::flex:]促銷食材\"}},{\"bounds\":{\"x\":1247,\"y\":866,\"width\":1185,\"height\":456},\"action\":{\"type\":\"uri\",\"uri\":\"https://image.slidesharecdn.com/chinesehistory-cv-caocao-140730210730-phpapp01/95/-1-638.jpg?cb=1458796316\"}}]},{\"richMenuId\":\"richmenu-4f11a172f276006c106c20d29d51c7b0\",\"name\":\"foodMenu\",\"size\":{\"width\":2500,\"height\":1686},\"chatBarText\":\"查看更多資訊\",\"selected\":true,\"areas\":[{\"bounds\":{\"x\":32,\"y\":369,\"width\":1198,\"height\":461},\"action\":{\"type\":\"message\",\"text\":\"[::text:]本次交易\"}},{\"bounds\":{\"x\":1248,\"y\":369,\"width\":1167,\"height\":449},\"action\":{\"type\":\"message\",\"text\":\"[::text:]歷史交易\"}},{\"bounds\":{\"x\":49,\"y\":866,\"width\":1192,\"height\":462},\"action\":{\"type\":\"message\",\"text\":\"[::flex:]促銷食材\"}},{\"bounds\":{\"x\":1247,\"y\":866,\"width\":1185,\"height\":456},\"action\":{\"type\":\"uri\",\"uri\":\"https://image.slidesharecdn.com/chinesehistory-cv-caocao-140730210730-phpapp01/95/-1-638.jpg?cb=1458796316\"}}]},{\"richMenuId\":\"richmenu-5a5a14beb7e4a8aee62e6e857b3bfe2e\",\"name\":\"foodMenu\",\"size\":{\"width\":2500,\"height\":1686},\"chatBarText\":\"查看更多資訊\",\"selected\":true,\"areas\":[{\"bounds\":{\"x\":32,\"y\":369,\"width\":1198,\"height\":461},\"action\":{\"type\":\"message\",\"text\":\"[::text:]本次交易\"}},{\"bounds\":{\"x\":1248,\"y\":369,\"width\":1167,\"height\":449},\"action\":{\"type\":\"message\",\"text\":\"[::text:]歷史交易\"}},{\"bounds\":{\"x\":49,\"y\":866,\"width\":1192,\"height\":462},\"action\":{\"type\":\"message\",\"text\":\"[::text:]促銷食材\"}},{\"bounds\":{\"x\":1247,\"y\":866,\"width\":1185,\"height\":456},\"action\":{\"type\":\"uri\",\"uri\":\"https://image.slidesharecdn.com/chinesehistory-cv-caocao-140730210730-phpapp01/95/-1-638.jpg?cb=1458796316\"}}]},{\"richMenuId\":\"richmenu-7ab1e4e75a68a3a02370c4b5ef9f513d\",\"name\":\"foodMenu\",\"size\":{\"width\":2500,\"height\":1686},\"chatBarText\":\"查看更多資訊\",\"selected\":true,\"areas\":[{\"bounds\":{\"x\":32,\"y\":369,\"width\":1198,\"height\":461},\"action\":{\"type\":\"message\",\"text\":\"[::text:]本次交易\"}},{\"bounds\":{\"x\":1248,\"y\":369,\"width\":1167,\"height\":449},\"action\":{\"type\":\"message\",\"text\":\"[::text:]歷史交易\"}},{\"bounds\":{\"x\":49,\"y\":866,\"width\":1192,\"height\":462},\"action\":{\"type\":\"message\",\"text\":\"[::flex:]促銷食材\"}},{\"bounds\":{\"x\":1247,\"y\":866,\"width\":1185,\"height\":456},\"action\":{\"type\":\"uri\",\"uri\":\"https://image.slidesharecdn.com/chinesehistory-cv-caocao-140730210730-phpapp01/95/-1-638.jpg?cb=1458796316\"}}]},{\"richMenuId\":\"richmenu-4ddcd043a512a8ae188d212142d0616e\",\"name\":\"foodMenu\",\"size\":{\"width\":2500,\"height\":843},\"chatBarText\":\"查看更多資訊\",\"selected\":true,\"areas\":[{\"bounds\":{\"x\":43,\"y\":49,\"width\":1198,\"height\":381},\"action\":{\"type\":\"message\",\"text\":\"[::text:]本次交易\"}},{\"bounds\":{\"x\":1247,\"y\":31,\"width\":1167,\"height\":393},\"action\":{\"type\":\"message\",\"text\":\"[::text:]歷史交易\"}},{\"bounds\":{\"x\":49,\"y\":467,\"width\":1192,\"height\":376},\"action\":{\"type\":\"message\",\"text\":\"[::text:]促銷商品\"}},{\"bounds\":{\"x\":1247,\"y\":467,\"width\":1185,\"height\":376},\"action\":{\"type\":\"uri\",\"uri\":\"https://image.slidesharecdn.com/chinesehistory-cv-caocao-140730210730-phpapp01/95/-1-638.jpg?cb=1458796316\"}}]},{\"richMenuId\":\"richmenu-645c2b34b83ee2446d4a97e993075abe\",\"name\":\"foodMenu\",\"size\":{\"width\":2500,\"height\":1686},\"chatBarText\":\"查看更多資訊\",\"selected\":true,\"areas\":[{\"bounds\":{\"x\":32,\"y\":369,\"width\":1198,\"height\":461},\"action\":{\"type\":\"message\",\"text\":\"[::text:]本次交易\"}},{\"bounds\":{\"x\":1248,\"y\":369,\"width\":1167,\"height\":449},\"action\":{\"type\":\"message\",\"text\":\"[::text:]歷史交易\"}},{\"bounds\":{\"x\":49,\"y\":866,\"width\":1192,\"height\":462},\"action\":{\"type\":\"message\",\"text\":\"[::flex:]促銷食材\"}},{\"bounds\":{\"x\":1247,\"y\":866,\"width\":1185,\"height\":456},\"action\":{\"type\":\"uri\",\"uri\":\"https://image.slidesharecdn.com/chinesehistory-cv-caocao-140730210730-phpapp01/95/-1-638.jpg?cb=1458796316\"}}]},{\"richMenuId\":\"richmenu-ad1fdf9eb4fe98ef608a6dc3fbfc867b\",\"name\":\"foodMenu\",\"size\":{\"width\":2500,\"height\":1686},\"chatBarText\":\"查看更多資訊\",\"selected\":true,\"areas\":[{\"bounds\":{\"x\":32,\"y\":369,\"width\":1198,\"height\":461},\"action\":{\"type\":\"message\",\"text\":\"[::text:]本次交易\"}},{\"bounds\":{\"x\":1248,\"y\":369,\"width\":1167,\"height\":449},\"action\":{\"type\":\"message\",\"text\":\"[::text:]歷史交易\"}},{\"bounds\":{\"x\":49,\"y\":866,\"width\":1192,\"height\":462},\"action\":{\"type\":\"message\",\"text\":\"[::flex:]促銷食材\"}},{\"bounds\":{\"x\":1247,\"y\":866,\"width\":1185,\"height\":456},\"action\":{\"type\":\"uri\",\"uri\":\"https://image.slidesharecdn.com/chinesehistory-cv-caocao-140730210730-phpapp01/95/-1-638.jpg?cb=1458796316\"}}]},{\"richMenuId\":\"richmenu-129723cd22ac8883f27df9998f00e989\",\"name\":\"foodMenu\",\"size\":{\"width\":2500,\"height\":1686},\"chatBarText\":\"查看更多資訊\",\"selected\":true,\"areas\":[{\"bounds\":{\"x\":32,\"y\":369,\"width\":1198,\"height\":461},\"action\":{\"type\":\"message\",\"text\":\"[::text:]本次交易\"}},{\"bounds\":{\"x\":1248,\"y\":369,\"width\":1167,\"height\":449},\"action\":{\"type\":\"message\",\"text\":\"[::text:]歷史交易\"}},{\"bounds\":{\"x\":49,\"y\":866,\"width\":1192,\"height\":462},\"action\":{\"type\":\"message\",\"text\":\"[::flex:]促銷食材\"}},{\"bounds\":{\"x\":1247,\"y\":866,\"width\":1185,\"height\":456},\"action\":{\"type\":\"uri\",\"uri\":\"https://image.slidesharecdn.com/chinesehistory-cv-caocao-140730210730-phpapp01/95/-1-638.jpg?cb=1458796316\"}}]},{\"richMenuId\":\"richmenu-96ff15332ddb6ac754422565ebb9ac37\",\"name\":\"foodMenu\",\"size\":{\"width\":2500,\"height\":1686},\"chatBarText\":\"查看更多資訊\",\"selected\":true,\"areas\":[{\"bounds\":{\"x\":32,\"y\":369,\"width\":1198,\"height\":461},\"action\":{\"type\":\"message\",\"text\":\"本次交易\"}},{\"bounds\":{\"x\":1248,\"y\":369,\"width\":1167,\"height\":449},\"action\":{\"type\":\"message\",\"text\":\"歷史交易\"}},{\"bounds\":{\"x\":49,\"y\":866,\"width\":1192,\"height\":462},\"action\":{\"type\":\"message\",\"text\":\"促銷食材\"}},{\"bounds\":{\"x\":1247,\"y\":866,\"width\":1185,\"height\":456},\"action\":{\"type\":\"uri\",\"uri\":\"https://image.slidesharecdn.com/chinesehistory-cv-caocao-140730210730-phpapp01/95/-1-638.jpg?cb=1458796316\"}}]}]}\n"
     ]
    }
   ],
   "source": [
    "'''\n",
    "\n",
    "檢視帳號內，有哪些選單\n",
    "    設定Line的遠端位置\n",
    "    設定消息的基本安全憑證\n",
    "    發送消息告知\n",
    "\n",
    "'''\n",
    "\n",
    "# 設定Line的遠端位置\n",
    "listMenuEndpoint=\"https://api.line.me/v2/bot/richmenu/list\"\n",
    "\n",
    "# 設定消息的基本安全憑證\n",
    "listMenuHeader={'Authorization':'Bearer %s' % secretFileContentJson[\"channel_access_token\"]}    \n",
    "\n",
    "# 發送消息告知\n",
    "lineLisrMenuResponse = requests.get(listMenuEndpoint,headers=listMenuHeader)\n",
    "print(lineLisrMenuResponse.text)"
   ]
  },
  {
   "cell_type": "code",
   "execution_count": null,
   "metadata": {},
   "outputs": [],
   "source": []
  }
 ],
 "metadata": {
  "kernelspec": {
   "display_name": "Python 3",
   "language": "python",
   "name": "python3"
  },
  "language_info": {
   "codemirror_mode": {
    "name": "ipython",
    "version": 3
   },
   "file_extension": ".py",
   "mimetype": "text/x-python",
   "name": "python",
   "nbconvert_exporter": "python",
   "pygments_lexer": "ipython3",
   "version": "3.7.1"
  }
 },
 "nbformat": 4,
 "nbformat_minor": 2
}
